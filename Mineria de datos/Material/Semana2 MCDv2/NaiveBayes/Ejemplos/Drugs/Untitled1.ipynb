{
 "cells": [
  {
   "cell_type": "code",
   "execution_count": 1,
   "metadata": {},
   "outputs": [
    {
     "ename": "SyntaxError",
     "evalue": "invalid syntax (<ipython-input-1-c9d51b95db29>, line 3)",
     "output_type": "error",
     "traceback": [
      "\u001b[0;36m  File \u001b[0;32m\"<ipython-input-1-c9d51b95db29>\"\u001b[0;36m, line \u001b[0;32m3\u001b[0m\n\u001b[0;31m    P(age = \"=31..40\" | buys_computer = \"yes\") = (4 + 1)/(9 + 1) = 0.5\u001b[0m\n\u001b[0m                                      ^\u001b[0m\n\u001b[0;31mSyntaxError\u001b[0m\u001b[0;31m:\u001b[0m invalid syntax\n"
     ]
    }
   ],
   "source": [
    "P(buys_computer = \"yes\") = (9 + 1)/(14 + 2) = 0.625 \n",
    "P(buys_computer = \"no\") = (5 + 1)/(14 + 2) = 0.375 \n",
    "P(age = \"=31..40\" | buys_computer = \"yes\") = (4 + 1)/(9 + 1) = 0.5 \n",
    "P(age = \"=31..40\" | buys_computer = \"no\") = (0 + 1)/(5 + 1) = 0.1667 \n",
    "p(income = \"low\" | buys_computer = \"yes\") = (1 + 1)/(9 + 1) = 0.2 \n",
    "p(income = \"low\" | buys_computer = \"no\") = (0 + 1)/(5 + 1) = 0.1667 \n",
    "p(student = \"yes\" | buys_computer = \"yes\") = (2 + 1)/(9 + 1) = 0.3 \n",
    "p(student = \"no\" | buys_computer = \"no\") = (0 + 1)/(5 + 1) = 0.1667 \n",
    "p(credit_rating = \"fair\" | buys_computer = \"yes\") = (2 + 1)/(9 + 1) = 0.3 \n",
    "p(credit_rating = \"fair\" | buys_computer = \"no\") = (0 + 1)/(5 + 1) = 0.1667 \n",
    "P(X|Ci): P(X|buys_computer = \"yes\") = 0.5 * 0.2 * 0.3 * 0.3 = 0.009 \n",
    "    "
   ]
  }
 ],
 "metadata": {
  "kernelspec": {
   "display_name": "Python 3",
   "language": "python",
   "name": "python3"
  },
  "language_info": {
   "codemirror_mode": {
    "name": "ipython",
    "version": 3
   },
   "file_extension": ".py",
   "mimetype": "text/x-python",
   "name": "python",
   "nbconvert_exporter": "python",
   "pygments_lexer": "ipython3",
   "version": "3.8.5"
  }
 },
 "nbformat": 4,
 "nbformat_minor": 4
}
